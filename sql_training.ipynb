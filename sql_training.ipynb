{
 "cells": [
  {
   "cell_type": "code",
   "execution_count": 1,
   "id": "548fb9da",
   "metadata": {},
   "outputs": [
    {
     "name": "stdout",
     "output_type": "stream",
     "text": [
      "Requirement already satisfied: psycopg2-binary in ./anaconda3/lib/python3.11/site-packages (2.9.9)\r\n"
     ]
    }
   ],
   "source": [
    "!pip install psycopg2-binary"
   ]
  },
  {
   "cell_type": "code",
   "execution_count": 3,
   "id": "cd27ff76",
   "metadata": {},
   "outputs": [],
   "source": [
    "import psycopg2\n"
   ]
  },
  {
   "cell_type": "code",
   "execution_count": 22,
   "id": "fc6d0471",
   "metadata": {},
   "outputs": [],
   "source": [
    "connection = psycopg2.connect(\n",
    "\n",
    "    host= 'localhost',\n",
    "    user=\"postgres\",\n",
    "    password='123',\n",
    "    database='school'\n",
    "\n",
    ")"
   ]
  },
  {
   "cell_type": "code",
   "execution_count": 8,
   "id": "4f8bb41b",
   "metadata": {
    "scrolled": true
   },
   "outputs": [
    {
     "name": "stdout",
     "output_type": "stream",
     "text": [
      "<connection object at 0x10af36b90; dsn: 'user=postgres password=xxx dbname=school host=localhost', closed: 0>\n"
     ]
    }
   ],
   "source": [
    "print(connection)"
   ]
  },
  {
   "cell_type": "code",
   "execution_count": 23,
   "id": "c74c9079",
   "metadata": {},
   "outputs": [],
   "source": [
    "cursor = connection.cursor()"
   ]
  },
  {
   "cell_type": "code",
   "execution_count": 10,
   "id": "bea9265d",
   "metadata": {},
   "outputs": [
    {
     "name": "stdout",
     "output_type": "stream",
     "text": [
      "<cursor object at 0x10c18f970; closed: 0>\n"
     ]
    }
   ],
   "source": [
    "print(cursor)"
   ]
  },
  {
   "cell_type": "code",
   "execution_count": 13,
   "id": "80b8f337",
   "metadata": {},
   "outputs": [],
   "source": [
    "cursor.execute ('SELECT * FROM teachers')"
   ]
  },
  {
   "cell_type": "code",
   "execution_count": 14,
   "id": "545398ed",
   "metadata": {},
   "outputs": [],
   "source": [
    "results = cursor.fetchall()"
   ]
  },
  {
   "cell_type": "code",
   "execution_count": 16,
   "id": "0b2721f5",
   "metadata": {},
   "outputs": [
    {
     "name": "stdout",
     "output_type": "stream",
     "text": [
      "[(1, 'Oscar Floorson', 1800), (2, 'Lilly Flores', 2000), (3, 'Bryan Cubes', 2200), (4, 'Clara Oakley', 1800), (5, 'Zachary Woodslash', 2000)]\n"
     ]
    }
   ],
   "source": [
    "print(results)"
   ]
  },
  {
   "cell_type": "code",
   "execution_count": 20,
   "id": "5905474f",
   "metadata": {},
   "outputs": [],
   "source": [
    "\n",
    "\n",
    "# Define your SQL query for insertion\n",
    "insert_query = \"\"\"\n",
    "    INSERT INTO teachers (teacher_id, name, pay)\n",
    "    VALUES (%s, %s, %s);\n",
    "\"\"\"\n",
    "\n",
    "# Define the values you want to insert\n",
    "values = (10, 'Kristina', 10000)\n",
    "\n",
    "# Execute the query with the provided values\n",
    "cursor.execute(insert_query, values)\n",
    "\n",
    "# Commit the transaction\n",
    "connection.commit()\n",
    "\n",
    "# Close the cursor and connection\n",
    "cursor.close()\n",
    "connection.close()\n"
   ]
  },
  {
   "cell_type": "code",
   "execution_count": 28,
   "id": "15ead060",
   "metadata": {},
   "outputs": [],
   "source": [
    "query = \"SELECT COUNT (*) FROM students\"\n",
    "cursor.execute(query)\n",
    "\n",
    "number= cursor.fetchone()[0]"
   ]
  },
  {
   "cell_type": "code",
   "execution_count": 29,
   "id": "accac4d7",
   "metadata": {},
   "outputs": [
    {
     "name": "stdout",
     "output_type": "stream",
     "text": [
      "26\n"
     ]
    }
   ],
   "source": [
    "print(number)"
   ]
  },
  {
   "cell_type": "code",
   "execution_count": null,
   "id": "7afae5f8",
   "metadata": {},
   "outputs": [],
   "source": []
  }
 ],
 "metadata": {
  "kernelspec": {
   "display_name": "Python 3 (ipykernel)",
   "language": "python",
   "name": "python3"
  },
  "language_info": {
   "codemirror_mode": {
    "name": "ipython",
    "version": 3
   },
   "file_extension": ".py",
   "mimetype": "text/x-python",
   "name": "python",
   "nbconvert_exporter": "python",
   "pygments_lexer": "ipython3",
   "version": "3.11.5"
  }
 },
 "nbformat": 4,
 "nbformat_minor": 5
}
